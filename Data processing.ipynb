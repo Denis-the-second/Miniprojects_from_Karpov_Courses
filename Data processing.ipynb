{
 "cells": [
  {
   "cell_type": "markdown",
   "id": "9089ad2f",
   "metadata": {},
   "source": [
    "# Задачи\n",
    "\n",
    "### 1. Импортируйте библиотеку pandas как pd. Загрузите два датасета user_data и logs. Проверьте размер таблицы, типы переменных, наличие пропущенных значений, описательную статистику.\n",
    "\n",
    "### 2.Какой клиент совершил больше всего успешных операций? (success == True)\n",
    "\n",
    "### 3.С какой платформы осуществляется наибольшее количество успешных операций?\n",
    "\n",
    "### 4.Какую платформу предпочитают премиумные клиенты?\n",
    "\n",
    "### 5.Визуализируйте распределение возраста клиентов в зависимости от типа клиента (премиум или нет)\n",
    "\n",
    "### 6.Постройте график распределения числа успешных операций\n",
    "\n",
    "### 7.Визуализируйте число успешных операций, сделанных на платформе computer, в зависимости от возраста, используя sns.countplot (x – возраст, y – число успешных операций). Клиенты какого возраста совершили наибольшее количество успешных действий?\n"
   ]
  },
  {
   "cell_type": "code",
   "execution_count": 1,
   "id": "57d4d9c7",
   "metadata": {},
   "outputs": [],
   "source": [
    "import numpy as np\n",
    "import pandas as pd\n",
    "\n",
    "import matplotlib as plt\n",
    "import seaborn as sns\n",
    "\n",
    "%matplotlib inline \n",
    "# указываем на то, что хотим, чтобы графики рисовались \n",
    "# сразу в Jypyter Notebook"
   ]
  },
  {
   "cell_type": "code",
   "execution_count": 4,
   "id": "9f79937e",
   "metadata": {},
   "outputs": [
    {
     "data": {
      "text/plain": [
       "[58,\n",
       " 55,\n",
       " 64,\n",
       " 44,\n",
       " 49,\n",
       " 36,\n",
       " 34,\n",
       " 48,\n",
       " 42,\n",
       " 59,\n",
       " 24,\n",
       " 40,\n",
       " 25,\n",
       " 21,\n",
       " 31,\n",
       " 69,\n",
       " 53,\n",
       " 35,\n",
       " 38,\n",
       " 52,\n",
       " 27,\n",
       " 50,\n",
       " 20,\n",
       " 63,\n",
       " 39,\n",
       " 26,\n",
       " 37,\n",
       " 62,\n",
       " 43,\n",
       " 46,\n",
       " 41,\n",
       " 23,\n",
       " 28,\n",
       " 29,\n",
       " 68,\n",
       " 51,\n",
       " 30,\n",
       " 61,\n",
       " 22,\n",
       " 65,\n",
       " 47,\n",
       " 66,\n",
       " 57,\n",
       " 32,\n",
       " 60,\n",
       " 45,\n",
       " 67,\n",
       " 56,\n",
       " 54,\n",
       " 33]"
      ]
     },
     "execution_count": 4,
     "metadata": {},
     "output_type": "execute_result"
    }
   ],
   "source": [
    "user_data = pd.read_csv('~/shared/homeworks/python_ds_miniprojects/3/user_data.csv')\n",
    "logs = pd.read_csv('~/shared/homeworks/python_ds_miniprojects/3/logs.csv')\n",
    "user_data.head()\n",
    "list(user_data.age.unique())"
   ]
  },
  {
   "cell_type": "code",
   "execution_count": 5,
   "id": "f832387e",
   "metadata": {},
   "outputs": [
    {
     "data": {
      "text/html": [
       "<div>\n",
       "<style scoped>\n",
       "    .dataframe tbody tr th:only-of-type {\n",
       "        vertical-align: middle;\n",
       "    }\n",
       "\n",
       "    .dataframe tbody tr th {\n",
       "        vertical-align: top;\n",
       "    }\n",
       "\n",
       "    .dataframe thead th {\n",
       "        text-align: right;\n",
       "    }\n",
       "</style>\n",
       "<table border=\"1\" class=\"dataframe\">\n",
       "  <thead>\n",
       "    <tr style=\"text-align: right;\">\n",
       "      <th></th>\n",
       "      <th>client</th>\n",
       "      <th>success</th>\n",
       "      <th>platform</th>\n",
       "      <th>time</th>\n",
       "    </tr>\n",
       "  </thead>\n",
       "  <tbody>\n",
       "    <tr>\n",
       "      <th>0</th>\n",
       "      <td>40177</td>\n",
       "      <td>True</td>\n",
       "      <td>phone</td>\n",
       "      <td>1585412212</td>\n",
       "    </tr>\n",
       "    <tr>\n",
       "      <th>1</th>\n",
       "      <td>61468</td>\n",
       "      <td>True</td>\n",
       "      <td>phone</td>\n",
       "      <td>1585425658</td>\n",
       "    </tr>\n",
       "    <tr>\n",
       "      <th>2</th>\n",
       "      <td>35604</td>\n",
       "      <td>False</td>\n",
       "      <td>phone</td>\n",
       "      <td>1585459894</td>\n",
       "    </tr>\n",
       "    <tr>\n",
       "      <th>3</th>\n",
       "      <td>9961</td>\n",
       "      <td>True</td>\n",
       "      <td>phone</td>\n",
       "      <td>1585400189</td>\n",
       "    </tr>\n",
       "    <tr>\n",
       "      <th>4</th>\n",
       "      <td>10931</td>\n",
       "      <td>True</td>\n",
       "      <td>computer</td>\n",
       "      <td>1585468629</td>\n",
       "    </tr>\n",
       "    <tr>\n",
       "      <th>...</th>\n",
       "      <td>...</td>\n",
       "      <td>...</td>\n",
       "      <td>...</td>\n",
       "      <td>...</td>\n",
       "    </tr>\n",
       "    <tr>\n",
       "      <th>4495</th>\n",
       "      <td>64496</td>\n",
       "      <td>False</td>\n",
       "      <td>computer</td>\n",
       "      <td>1585459072</td>\n",
       "    </tr>\n",
       "    <tr>\n",
       "      <th>4496</th>\n",
       "      <td>73299</td>\n",
       "      <td>True</td>\n",
       "      <td>phone</td>\n",
       "      <td>1585458370</td>\n",
       "    </tr>\n",
       "    <tr>\n",
       "      <th>4497</th>\n",
       "      <td>8967</td>\n",
       "      <td>True</td>\n",
       "      <td>phone</td>\n",
       "      <td>1585465121</td>\n",
       "    </tr>\n",
       "    <tr>\n",
       "      <th>4498</th>\n",
       "      <td>52880</td>\n",
       "      <td>False</td>\n",
       "      <td>phone</td>\n",
       "      <td>1585455362</td>\n",
       "    </tr>\n",
       "    <tr>\n",
       "      <th>4499</th>\n",
       "      <td>40921</td>\n",
       "      <td>True</td>\n",
       "      <td>phone</td>\n",
       "      <td>1585437692</td>\n",
       "    </tr>\n",
       "  </tbody>\n",
       "</table>\n",
       "<p>4500 rows × 4 columns</p>\n",
       "</div>"
      ],
      "text/plain": [
       "      client  success  platform        time\n",
       "0      40177     True     phone  1585412212\n",
       "1      61468     True     phone  1585425658\n",
       "2      35604    False     phone  1585459894\n",
       "3       9961     True     phone  1585400189\n",
       "4      10931     True  computer  1585468629\n",
       "...      ...      ...       ...         ...\n",
       "4495   64496    False  computer  1585459072\n",
       "4496   73299     True     phone  1585458370\n",
       "4497    8967     True     phone  1585465121\n",
       "4498   52880    False     phone  1585455362\n",
       "4499   40921     True     phone  1585437692\n",
       "\n",
       "[4500 rows x 4 columns]"
      ]
     },
     "execution_count": 5,
     "metadata": {},
     "output_type": "execute_result"
    }
   ],
   "source": [
    "logs"
   ]
  },
  {
   "cell_type": "markdown",
   "id": "ba67b57f",
   "metadata": {},
   "source": [
    "### 2.Какой клиент совершил больше всего успешных операций? (success == True)\n"
   ]
  },
  {
   "cell_type": "code",
   "execution_count": 6,
   "id": "cb88a43b",
   "metadata": {},
   "outputs": [
    {
     "data": {
      "text/plain": [
       "[12179, 28719, 36165, 52870, 61468, 61473, 78349, 82563, 92584]"
      ]
     },
     "execution_count": 6,
     "metadata": {},
     "output_type": "execute_result"
    }
   ],
   "source": [
    "# Отсортируем в датасете logs только те значения, где операция прошла успешно, сгруппируем полученный датасет по клиентами и\n",
    "# посчитаем количество успешных операций для каждого. Отсортируем полученные данные по убыванию количества успешных операций.\n",
    "# Преобразуем датасет, оставляя только тех клиентов, у которых максимальное значение успешных действий.\n",
    "# Отсортируем по номеру клиента, выберем серию \"client\" и сделаем из нее список, получив ответ в то мже формате, как просят\n",
    "# в задании (по возрастанию, через запятую)\n",
    "success_logs = logs.query('success == True').groupby('client', as_index=False).agg({'success': 'count'}) \\\n",
    "    .sort_values('success', ascending=False)\n",
    "list(success_logs.query('success == success.max()').sort_values('client').client)\n"
   ]
  },
  {
   "cell_type": "markdown",
   "id": "f9f7925a",
   "metadata": {},
   "source": [
    "### 3.С какой платформы осуществляется наибольшее количество успешных операций?\n"
   ]
  },
  {
   "cell_type": "code",
   "execution_count": 7,
   "id": "c2f2e566",
   "metadata": {},
   "outputs": [
    {
     "data": {
      "text/html": [
       "<div>\n",
       "<style scoped>\n",
       "    .dataframe tbody tr th:only-of-type {\n",
       "        vertical-align: middle;\n",
       "    }\n",
       "\n",
       "    .dataframe tbody tr th {\n",
       "        vertical-align: top;\n",
       "    }\n",
       "\n",
       "    .dataframe thead th {\n",
       "        text-align: right;\n",
       "    }\n",
       "</style>\n",
       "<table border=\"1\" class=\"dataframe\">\n",
       "  <thead>\n",
       "    <tr style=\"text-align: right;\">\n",
       "      <th></th>\n",
       "      <th>client</th>\n",
       "    </tr>\n",
       "    <tr>\n",
       "      <th>platform</th>\n",
       "      <th></th>\n",
       "    </tr>\n",
       "  </thead>\n",
       "  <tbody>\n",
       "    <tr>\n",
       "      <th>phone</th>\n",
       "      <td>2019</td>\n",
       "    </tr>\n",
       "  </tbody>\n",
       "</table>\n",
       "</div>"
      ],
      "text/plain": [
       "          client\n",
       "platform        \n",
       "phone       2019"
      ]
     },
     "execution_count": 7,
     "metadata": {},
     "output_type": "execute_result"
    }
   ],
   "source": [
    "logs.query('success == True').groupby('platform').agg({'client': 'count'}).sort_values('client', ascending=False).head(1)"
   ]
  },
  {
   "cell_type": "markdown",
   "id": "4f0f1ba1",
   "metadata": {},
   "source": [
    "### 4.Какую платформу предпочитают премиумные клиенты?\n"
   ]
  },
  {
   "cell_type": "code",
   "execution_count": 8,
   "id": "92ebfb96",
   "metadata": {},
   "outputs": [
    {
     "data": {
      "text/html": [
       "<div>\n",
       "<style scoped>\n",
       "    .dataframe tbody tr th:only-of-type {\n",
       "        vertical-align: middle;\n",
       "    }\n",
       "\n",
       "    .dataframe tbody tr th {\n",
       "        vertical-align: top;\n",
       "    }\n",
       "\n",
       "    .dataframe thead th {\n",
       "        text-align: right;\n",
       "    }\n",
       "</style>\n",
       "<table border=\"1\" class=\"dataframe\">\n",
       "  <thead>\n",
       "    <tr style=\"text-align: right;\">\n",
       "      <th></th>\n",
       "      <th>client</th>\n",
       "    </tr>\n",
       "    <tr>\n",
       "      <th>platform</th>\n",
       "      <th></th>\n",
       "    </tr>\n",
       "  </thead>\n",
       "  <tbody>\n",
       "    <tr>\n",
       "      <th>phone</th>\n",
       "      <td>246</td>\n",
       "    </tr>\n",
       "  </tbody>\n",
       "</table>\n",
       "</div>"
      ],
      "text/plain": [
       "          client\n",
       "platform        \n",
       "phone        246"
      ]
     },
     "execution_count": 8,
     "metadata": {},
     "output_type": "execute_result"
    }
   ],
   "source": [
    "premium_df = user_data.merge(right=logs, on='client')\n",
    "premium_df.query('premium == True').groupby('platform').agg({'client': 'count'}).sort_values('client', ascending=False).head(1)"
   ]
  },
  {
   "cell_type": "markdown",
   "id": "1665f139",
   "metadata": {},
   "source": [
    "### 5.Визуализируйте распределение возраста клиентов в зависимости от типа клиента (премиум или нет)\n"
   ]
  },
  {
   "cell_type": "code",
   "execution_count": 9,
   "id": "700cae3c",
   "metadata": {},
   "outputs": [
    {
     "name": "stderr",
     "output_type": "stream",
     "text": [
      "/opt/tljh/user/lib/python3.7/site-packages/seaborn/distributions.py:2557: FutureWarning: `distplot` is a deprecated function and will be removed in a future version. Please adapt your code to use either `displot` (a figure-level function with similar flexibility) or `histplot` (an axes-level function for histograms).\n",
      "  warnings.warn(msg, FutureWarning)\n",
      "/opt/tljh/user/lib/python3.7/site-packages/seaborn/distributions.py:2557: FutureWarning: `distplot` is a deprecated function and will be removed in a future version. Please adapt your code to use either `displot` (a figure-level function with similar flexibility) or `histplot` (an axes-level function for histograms).\n",
      "  warnings.warn(msg, FutureWarning)\n"
     ]
    },
    {
     "data": {
      "text/plain": [
       "<matplotlib.axes._subplots.AxesSubplot at 0x7f106992beb8>"
      ]
     },
     "execution_count": 9,
     "metadata": {},
     "output_type": "execute_result"
    },
    {
     "data": {
      "image/png": "[encoded data removed]",
      "text/plain": [
       "<Figure size 432x288 with 1 Axes>"
      ]
     },
     "metadata": {
      "needs_background": "light"
     },
     "output_type": "display_data"
    }
   ],
   "source": [
    "user_data.groupby(['age', 'premium'], as_index=False).agg({'client': 'count'})\n",
    "# sns.displot(data=user_data.query('premium == True'), x='age')\n",
    "# sns.displot(data=user_data.query('premium == False'), x='age')\n",
    "sns.distplot(user_data.query('premium == True').age)\n",
    "sns.distplot(user_data.query('premium == False').age)"
   ]
  },
  {
   "cell_type": "markdown",
   "id": "a8ab8149",
   "metadata": {},
   "source": [
    "### 6.Постройте график распределения числа успешных операций\n",
    "x – число успешных операций\n",
    "\n",
    "y – число клиентов, совершивших столько успешных операций"
   ]
  },
  {
   "cell_type": "code",
   "execution_count": 10,
   "id": "ad516b49",
   "metadata": {},
   "outputs": [
    {
     "name": "stderr",
     "output_type": "stream",
     "text": [
      "/opt/tljh/user/lib/python3.7/site-packages/seaborn/distributions.py:2557: FutureWarning: `distplot` is a deprecated function and will be removed in a future version. Please adapt your code to use either `displot` (a figure-level function with similar flexibility) or `histplot` (an axes-level function for histograms).\n",
      "  warnings.warn(msg, FutureWarning)\n"
     ]
    },
    {
     "data": {
      "text/plain": [
       "<matplotlib.axes._subplots.AxesSubplot at 0x7f10653a5f28>"
      ]
     },
     "execution_count": 10,
     "metadata": {},
     "output_type": "execute_result"
    },
    {
     "data": {
      "image/png": "[encoded data removed]",
      "text/plain": [
       "<Figure size 432x288 with 1 Axes>"
      ]
     },
     "metadata": {
      "needs_background": "light"
     },
     "output_type": "display_data"
    }
   ],
   "source": [
    "sns.distplot(success_logs.success)"
   ]
  },
  {
   "cell_type": "markdown",
   "id": "93f890f8",
   "metadata": {},
   "source": [
    "### 7.Визуализируйте число успешных операций, сделанных на платформе computer, в зависимости от возраста, используя sns.countplot (x – возраст, y – число успешных операций). Клиенты какого возраста совершили наибольшее количество успешных действий?\n"
   ]
  },
  {
   "cell_type": "code",
   "execution_count": 11,
   "id": "a0507af6",
   "metadata": {},
   "outputs": [],
   "source": [
    "computer_success = premium_df"
   ]
  },
  {
   "cell_type": "code",
   "execution_count": null,
   "id": "32b0f20a",
   "metadata": {},
   "outputs": [],
   "source": []
  }
 ],
 "metadata": {
  "kernelspec": {
   "display_name": "Python 3 (ipykernel)",
   "language": "python",
   "name": "python3"
  },
  "language_info": {
   "codemirror_mode": {
    "name": "ipython",
    "version": 3
   },
   "file_extension": ".py",
   "mimetype": "text/x-python",
   "name": "python",
   "nbconvert_exporter": "python",
   "pygments_lexer": "ipython3",
   "version": "3.9.12"
  }
 },
 "nbformat": 4,
 "nbformat_minor": 5
}
